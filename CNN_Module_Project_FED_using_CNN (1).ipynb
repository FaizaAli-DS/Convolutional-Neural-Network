{
  "cells": [
    {
      "cell_type": "markdown",
      "metadata": {
        "id": "view-in-github",
        "colab_type": "text"
      },
      "source": [
        "<a href=\"https://colab.research.google.com/github/FaizaAli-Dev/AI-DS-Projects/blob/All-about-AI-and-Data-Science/CNN_Module_Project_FED_using_CNN.ipynb\" target=\"_parent\"><img src=\"https://colab.research.google.com/assets/colab-badge.svg\" alt=\"Open In Colab\"/></a>"
      ]
    },
    {
      "cell_type": "code",
      "execution_count": null,
      "metadata": {
        "id": "zFOLNNLAi7ZU"
      },
      "outputs": [],
      "source": [
        "from google.colab import drive\n",
        "drive.mount('/content/drive/')"
      ]
    },
    {
      "cell_type": "code",
      "execution_count": null,
      "metadata": {
        "colab": {
          "base_uri": "https://localhost:8080/"
        },
        "id": "Cb6ISII0jGMN",
        "outputId": "5d8adcc3-182a-4ae8-bacf-19e0bb0944cc"
      },
      "outputs": [
        {
          "name": "stdout",
          "output_type": "stream",
          "text": [
            "facial_expression.zip\n",
            "Dataset\n"
          ]
        }
      ],
      "source": [
        "import os\n",
        "#Check the contents of the root directory in Google Drive\n",
        "drive_root = '/content/drive/MyDrive/Computer_Vision'\n",
        "for file_name in os.listdir(drive_root):\n",
        "    print(file_name)"
      ]
    },
    {
      "cell_type": "code",
      "execution_count": null,
      "metadata": {
        "id": "zt3jfC-Zju9U"
      },
      "outputs": [],
      "source": [
        "import tensorflow as tf\n",
        "import matplotlib.pyplot as plt\n",
        "from keras.models import Sequential\n",
        "from keras.layers import Convolution2D,MaxPooling2D,Dense,Dropout,Flatten\n",
        "from keras.optimizers import Adam\n",
        "from keras.preprocessing.image import ImageDataGenerator\n",
        "import cv2"
      ]
    },
    {
      "cell_type": "code",
      "execution_count": null,
      "metadata": {
        "id": "YbH-p3oIbYzn"
      },
      "outputs": [],
      "source": [
        "# Set the dataset path\n",
        "dataset_path = '/content/drive/MyDrive/Computer_Vision/facial_expression.zip'\n",
        "train_dir = '/content/drive/MyDrive/Computer_Vision/Dataset/train'\n",
        "test_dir = '/content/drive/MyDrive/Computer_Vision/Dataset/test'"
      ]
    },
    {
      "cell_type": "markdown",
      "metadata": {
        "id": "BCO515jJc_ag"
      },
      "source": [
        "#Preprocessing of images during the training and validation"
      ]
    },
    {
      "cell_type": "code",
      "execution_count": null,
      "metadata": {
        "id": "jFsESgT1c98w"
      },
      "outputs": [],
      "source": [
        "validation_image_data_generator = ImageDataGenerator(rescale=1./255)\n",
        "#\"ImageDataGenerator\" real-time data augmentation during model training\n",
        "#1./255 means that each pixel value in the images will be divided by 255"
      ]
    },
    {
      "cell_type": "code",
      "execution_count": null,
      "metadata": {
        "id": "Sa79xxVbYd0v"
      },
      "outputs": [],
      "source": [
        "from keras.preprocessing.image import ImageDataGenerator\n",
        "#Data augmentation paramerters setting\n",
        "data_augumantation = ImageDataGenerator(\n",
        "    rotation_range=10,      #image rotation degree\n",
        "    width_shift_range=0.1,  #horizontal shift\n",
        "    height_shift_range=0.1, #vertical shift\n",
        "    shear_range=0.1,        #clockwise direction as radians\n",
        "    zoom_range=0.1,         #zoom range\n",
        "    horizontal_flip=True,   #flip images horizontally\n",
        "    fill_mode='nearest'   #pixel value scale [0,1]\n",
        ")"
      ]
    },
    {
      "cell_type": "code",
      "execution_count": null,
      "metadata": {
        "colab": {
          "base_uri": "https://localhost:8080/"
        },
        "id": "5WJKP9ybrmnx",
        "outputId": "f65cdcfe-c543-437a-d451-cd9dd2045791"
      },
      "outputs": [
        {
          "name": "stdout",
          "output_type": "stream",
          "text": [
            "Found 32298 images belonging to 7 classes.\n",
            "Found 3589 images belonging to 7 classes.\n"
          ]
        }
      ],
      "source": [
        "batch_size = 128\n",
        "#size of the image: 48*48 pixels\n",
        "img_size = 48\n",
        "training_set = data_augumantation.flow_from_directory('/content/drive/MyDrive/Computer_Vision/Dataset/train',\n",
        "                                                      target_size=(img_size,img_size),\n",
        "                                                      color_mode=\"grayscale\",\n",
        "                                                      batch_size=batch_size,\n",
        "                                                      class_mode='categorical',\n",
        "                                                      shuffle=True)\n",
        "\n",
        "Test_set = data_augumantation.flow_from_directory('/content/drive/MyDrive/Computer_Vision/Dataset/test',\n",
        "                                                  target_size=(img_size,img_size),\n",
        "                                                  color_mode=\"grayscale\",\n",
        "                                                  batch_size=batch_size,\n",
        "                                                  class_mode='categorical',\n",
        "                                                  shuffle=False)"
      ]
    },
    {
      "cell_type": "code",
      "execution_count": null,
      "metadata": {
        "id": "H4Fvm2Fya15I"
      },
      "outputs": [],
      "source": [
        "# data cleaning\n",
        "classes = os.listdir('/content/drive/MyDrive/Computer_Vision/Dataset/train')\n",
        "images = []\n",
        "\n",
        "clean_images = []\n",
        "for i in range(len(images)):\n",
        "    if os.path.exists(image_paths[i]):\n",
        "        clean_images.append(images[i])\n",
        "\n",
        "images = clean_images\n"
      ]
    },
    {
      "cell_type": "code",
      "execution_count": null,
      "metadata": {
        "colab": {
          "base_uri": "https://localhost:8080/"
        },
        "id": "XIfTiXvwbkN1",
        "outputId": "ab6973d9-a5b7-47a0-ff81-14df735ec588"
      },
      "outputs": [
        {
          "data": {
            "text/plain": [
              "{'anger': 0,\n",
              " 'disgust': 1,\n",
              " 'fear': 2,\n",
              " 'happiness': 3,\n",
              " 'neutral': 4,\n",
              " 'sadness': 5,\n",
              " 'surprise': 6}"
            ]
          },
          "execution_count": 9,
          "metadata": {},
          "output_type": "execute_result"
        }
      ],
      "source": [
        "training_set.class_indices"
      ]
    },
    {
      "cell_type": "markdown",
      "metadata": {
        "id": "-yXo_nFQn5WM"
      },
      "source": [
        "#Creating FED Model using Sequential Model\n",
        "I have add 2 convolution layers,dense layer and 1 fully connected layer\n"
      ]
    },
    {
      "cell_type": "code",
      "execution_count": null,
      "metadata": {
        "colab": {
          "base_uri": "https://localhost:8080/"
        },
        "id": "cdWo6mTWruHV",
        "outputId": "cd439cf6-7862-4963-da4a-b456a8cdc3e7"
      },
      "outputs": [
        {
          "name": "stdout",
          "output_type": "stream",
          "text": [
            "Model: \"sequential\"\n",
            "_________________________________________________________________\n",
            " Layer (type)                Output Shape              Param #   \n",
            "=================================================================\n",
            " conv2d (Conv2D)             (None, 48, 48, 32)        320       \n",
            "                                                                 \n",
            " max_pooling2d (MaxPooling2D  (None, 24, 24, 32)       0         \n",
            " )                                                               \n",
            "                                                                 \n",
            " conv2d_1 (Conv2D)           (None, 24, 24, 64)        18496     \n",
            "                                                                 \n",
            " max_pooling2d_1 (MaxPooling  (None, 12, 12, 64)       0         \n",
            " 2D)                                                             \n",
            "                                                                 \n",
            " flatten (Flatten)           (None, 9216)              0         \n",
            "                                                                 \n",
            " dense (Dense)               (None, 256)               2359552   \n",
            "                                                                 \n",
            " dense_1 (Dense)             (None, 512)               131584    \n",
            "                                                                 \n",
            " dense_2 (Dense)             (None, 7)                 3591      \n",
            "                                                                 \n",
            "=================================================================\n",
            "Total params: 2,513,543\n",
            "Trainable params: 2,513,543\n",
            "Non-trainable params: 0\n",
            "_________________________________________________________________\n",
            "None\n"
          ]
        },
        {
          "name": "stderr",
          "output_type": "stream",
          "text": [
            "/usr/local/lib/python3.10/dist-packages/keras/optimizers/legacy/adam.py:117: UserWarning: The `lr` argument is deprecated, use `learning_rate` instead.\n",
            "  super().__init__(name, **kwargs)\n"
          ]
        }
      ],
      "source": [
        "from keras.layers import Conv2D,Input, MaxPooling2D, Dropout, Flatten, Dense, Activation\n",
        "from keras.models import Model, Sequential\n",
        "from keras.optimizers import Adam\n",
        "\n",
        "# no of labels\n",
        "total_classes= 7\n",
        "\n",
        "# Initialising the CNN\n",
        "FEM_model = Sequential()\n",
        "\n",
        "#1st CNN layer\n",
        "FEM_model.add(Conv2D(32, kernel_size=(3, 3), padding='same', activation='relu', input_shape=(48, 48,1))) #1\n",
        "FEM_model.add(MaxPooling2D(pool_size=(2, 2)))\n",
        "#2nd CNN layer\n",
        "FEM_model.add(Conv2D(64,(3,3), padding='same', activation='relu' ))\n",
        "FEM_model.add(MaxPooling2D(pool_size=(2, 2)))\n",
        "\n",
        "# Flatten layer\n",
        "FEM_model.add(Flatten())\n",
        "\n",
        "#Fully connected 1st layer\n",
        "FEM_model.add(Dense(256,activation = 'relu'))\n",
        "#Fully connected layer 2nd layer\n",
        "FEM_model.add(Dense(512,activation = 'relu'))\n",
        "\n",
        "FEM_model.add(Dense(total_classes, activation='softmax'))\n",
        "\n",
        "opt = Adam(lr=0.0001)\n",
        "FEM_model.compile(optimizer=opt, loss='categorical_crossentropy', metrics=['accuracy'])\n",
        "print(FEM_model.summary())"
      ]
    },
    {
      "cell_type": "code",
      "execution_count": null,
      "metadata": {
        "colab": {
          "background_save": true,
          "base_uri": "https://localhost:8080/"
        },
        "id": "uoJE7miTEIIz",
        "outputId": "05066c7d-c7eb-4c34-f16c-e9e8d5482def"
      },
      "outputs": [
        {
          "name": "stdout",
          "output_type": "stream",
          "text": [
            "Epoch 1/10\n",
            "172/504 [=========>....................] - ETA: 4:46:13 - loss: 2.8003 - accuracy: 0.2191"
          ]
        }
      ],
      "source": [
        "emotion_model_info = FEM_model.fit(\n",
        "        training_set ,\n",
        "        steps_per_epoch=32298 // 64,\n",
        "        epochs=10,\n",
        "        validation_data=Test_set,\n",
        "        validation_steps=3589 // 64)"
      ]
    },
    {
      "cell_type": "code",
      "execution_count": null,
      "metadata": {
        "colab": {
          "base_uri": "https://localhost:8080/",
          "height": 380
        },
        "id": "ZChXc2_mVNRo",
        "outputId": "c15e19d4-2d46-4910-e680-5ed56f7f6e12"
      },
      "outputs": [
        {
          "name": "stderr",
          "output_type": "stream",
          "text": [
            "WARNING:tensorflow:`period` argument is deprecated. Please use `save_freq` to specify the frequency in number of batches seen.\n"
          ]
        },
        {
          "ename": "ValueError",
          "evalue": "ignored",
          "output_type": "error",
          "traceback": [
            "\u001b[0;31m---------------------------------------------------------------------------\u001b[0m",
            "\u001b[0;31mValueError\u001b[0m                                Traceback (most recent call last)",
            "\u001b[0;32m<ipython-input-15-564958211414>\u001b[0m in \u001b[0;36m<cell line: 8>\u001b[0;34m()\u001b[0m\n\u001b[1;32m      6\u001b[0m \u001b[0;34m\u001b[0m\u001b[0m\n\u001b[1;32m      7\u001b[0m \u001b[0;34m\u001b[0m\u001b[0m\n\u001b[0;32m----> 8\u001b[0;31m \u001b[0mFEM_model\u001b[0m\u001b[0;34m.\u001b[0m\u001b[0mfit\u001b[0m\u001b[0;34m(\u001b[0m\u001b[0mtrain_generator\u001b[0m \u001b[0;34m,\u001b[0m \u001b[0mvalidation_generator\u001b[0m\u001b[0;34m,\u001b[0m \u001b[0mepochs\u001b[0m\u001b[0;34m=\u001b[0m\u001b[0;36m100\u001b[0m\u001b[0;34m,\u001b[0m \u001b[0mcallbacks\u001b[0m\u001b[0;34m=\u001b[0m\u001b[0;34m[\u001b[0m\u001b[0mcheckpoint\u001b[0m\u001b[0;34m]\u001b[0m\u001b[0;34m)\u001b[0m\u001b[0;34m\u001b[0m\u001b[0;34m\u001b[0m\u001b[0m\n\u001b[0m",
            "\u001b[0;32m/usr/local/lib/python3.10/dist-packages/keras/utils/traceback_utils.py\u001b[0m in \u001b[0;36merror_handler\u001b[0;34m(*args, **kwargs)\u001b[0m\n\u001b[1;32m     68\u001b[0m             \u001b[0;31m# To get the full stack trace, call:\u001b[0m\u001b[0;34m\u001b[0m\u001b[0;34m\u001b[0m\u001b[0m\n\u001b[1;32m     69\u001b[0m             \u001b[0;31m# `tf.debugging.disable_traceback_filtering()`\u001b[0m\u001b[0;34m\u001b[0m\u001b[0;34m\u001b[0m\u001b[0m\n\u001b[0;32m---> 70\u001b[0;31m             \u001b[0;32mraise\u001b[0m \u001b[0me\u001b[0m\u001b[0;34m.\u001b[0m\u001b[0mwith_traceback\u001b[0m\u001b[0;34m(\u001b[0m\u001b[0mfiltered_tb\u001b[0m\u001b[0;34m)\u001b[0m \u001b[0;32mfrom\u001b[0m \u001b[0;32mNone\u001b[0m\u001b[0;34m\u001b[0m\u001b[0;34m\u001b[0m\u001b[0m\n\u001b[0m\u001b[1;32m     71\u001b[0m         \u001b[0;32mfinally\u001b[0m\u001b[0;34m:\u001b[0m\u001b[0;34m\u001b[0m\u001b[0;34m\u001b[0m\u001b[0m\n\u001b[1;32m     72\u001b[0m             \u001b[0;32mdel\u001b[0m \u001b[0mfiltered_tb\u001b[0m\u001b[0;34m\u001b[0m\u001b[0;34m\u001b[0m\u001b[0m\n",
            "\u001b[0;32m/usr/local/lib/python3.10/dist-packages/keras/engine/data_adapter.py\u001b[0m in \u001b[0;36m__init__\u001b[0;34m(self, x, y, sample_weights, shuffle, workers, use_multiprocessing, max_queue_size, model, **kwargs)\u001b[0m\n\u001b[1;32m    994\u001b[0m     ):\n\u001b[1;32m    995\u001b[0m         \u001b[0;32mif\u001b[0m \u001b[0;32mnot\u001b[0m \u001b[0mis_none_or_empty\u001b[0m\u001b[0;34m(\u001b[0m\u001b[0my\u001b[0m\u001b[0;34m)\u001b[0m\u001b[0;34m:\u001b[0m\u001b[0;34m\u001b[0m\u001b[0;34m\u001b[0m\u001b[0m\n\u001b[0;32m--> 996\u001b[0;31m             raise ValueError(\n\u001b[0m\u001b[1;32m    997\u001b[0m                 \u001b[0;34m\"`y` argument is not supported when using \"\u001b[0m\u001b[0;34m\u001b[0m\u001b[0;34m\u001b[0m\u001b[0m\n\u001b[1;32m    998\u001b[0m                 \u001b[0;34m\"`keras.utils.Sequence` as input.\"\u001b[0m\u001b[0;34m\u001b[0m\u001b[0;34m\u001b[0m\u001b[0m\n",
            "\u001b[0;31mValueError\u001b[0m: `y` argument is not supported when using `keras.utils.Sequence` as input."
          ]
        }
      ],
      "source": [
        "#from keras.callbacks import ModelCheckpoint\n",
        "#checkpoint = ModelCheckpoint('/content/drive/My Drive/Colab Notebooks/checkpoint-{epoch:02d}.h5',\n",
        "#                            save_weights_only=False,\n",
        "#                            save_best_only=False,\n",
        "#                             period=5)  # Save the model every 5 epochs\n",
        "#\n",
        "#\n",
        "#FEM_model.fit(train_generator , validation_generator, epochs=100, callbacks=[checkpoint])"
      ]
    },
    {
      "cell_type": "code",
      "execution_count": null,
      "metadata": {
        "id": "IeBqTQa257VN"
      },
      "outputs": [],
      "source": []
    }
  ],
  "metadata": {
    "colab": {
      "provenance": [],
      "authorship_tag": "ABX9TyO7EzKicutrrH/stw1XpGZi",
      "include_colab_link": true
    },
    "kernelspec": {
      "display_name": "Python 3",
      "name": "python3"
    },
    "language_info": {
      "name": "python"
    }
  },
  "nbformat": 4,
  "nbformat_minor": 0
}